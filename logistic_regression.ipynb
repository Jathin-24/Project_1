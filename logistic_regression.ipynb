{
 "cells": [
  {
   "cell_type": "markdown",
   "id": "ac992cea-2c36-4602-82db-10396012ba14",
   "metadata": {},
   "source": [
    "<!-- Logistic Regression -->"
   ]
  },
  {
   "cell_type": "markdown",
   "id": "97f1ac61-8be3-47d6-8c69-7895da972ec2",
   "metadata": {},
   "source": [
    "# Logistic Regression"
   ]
  },
  {
   "cell_type": "markdown",
   "id": "bc83c2af-0b6b-4130-85f6-3a56bd4ea801",
   "metadata": {},
   "source": [
    "Importing the libraries"
   ]
  },
  {
   "cell_type": "code",
   "execution_count": null,
   "id": "8f4308ae-3b5a-4603-95e3-36f3071ca490",
   "metadata": {},
   "outputs": [],
   "source": [
    "import numpy as np\n",
    "import matplotlib.pyplot as plt\n",
    "import pandas as pd"
   ]
  },
  {
   "cell_type": "markdown",
   "id": "1e66692b-c80e-4bf3-81d0-bc0b4956151f",
   "metadata": {},
   "source": [
    "Importing the dataset"
   ]
  },
  {
   "cell_type": "code",
   "execution_count": null,
   "id": "8979b965-3700-4da4-88c8-330820a13362",
   "metadata": {},
   "outputs": [],
   "source": [
    "# dataset = pd.read_csv('social_network_ads_logistic.csv')\n",
    "dataset = pd.read_csv('Social_Network_Ads.csv')\n",
    "X = dataset.iloc[:,:-1].values\n",
    "y = dataset.iloc[:,-1].values"
   ]
  },
  {
   "cell_type": "code",
   "execution_count": null,
   "id": "dfa8a447-d9a6-4e80-9df8-140edfa19f14",
   "metadata": {},
   "outputs": [],
   "source": [
    "dataset.isnull().sum()"
   ]
  },
  {
   "cell_type": "markdown",
   "id": "01ef34a9-cfb5-4f1f-af4d-4f20312c3b7b",
   "metadata": {},
   "source": [
    "Splitting the dataset into the Training set and Test set"
   ]
  },
  {
   "cell_type": "code",
   "execution_count": null,
   "id": "30b19165-0586-42a5-828b-ad6b8243ad83",
   "metadata": {},
   "outputs": [],
   "source": [
    "from sklearn.model_selection import train_test_split\n",
    "X_train,X_test,y_train,y_test = train_test_split(X,y,test_size = 0.25,random_state = 0)"
   ]
  },
  {
   "cell_type": "code",
   "execution_count": null,
   "id": "1af9c915-d25f-49a0-915b-e450f4df63c3",
   "metadata": {},
   "outputs": [],
   "source": [
    "print(X_train)"
   ]
  },
  {
   "cell_type": "code",
   "execution_count": null,
   "id": "ad564f8b-7119-41ff-9e61-29f38bec9ac6",
   "metadata": {},
   "outputs": [],
   "source": [
    "print(y_train)"
   ]
  },
  {
   "cell_type": "code",
   "execution_count": null,
   "id": "d488d1d9-6673-41a4-bbd3-09e34d88ba45",
   "metadata": {},
   "outputs": [],
   "source": [
    "print(X_test)"
   ]
  },
  {
   "cell_type": "code",
   "execution_count": null,
   "id": "9bd46f76-e502-4c5f-b6d5-4ed4b5b192ff",
   "metadata": {},
   "outputs": [],
   "source": [
    "print(y_test)"
   ]
  },
  {
   "cell_type": "markdown",
   "id": "a04e0ed5-7b12-402e-a57c-2737d49e44f7",
   "metadata": {},
   "source": [
    "Featuer Scaling"
   ]
  },
  {
   "cell_type": "code",
   "execution_count": null,
   "id": "d5428489-eb89-4819-9b56-37484a2661bb",
   "metadata": {},
   "outputs": [],
   "source": [
    "from sklearn.preprocessing import StandardScaler\n",
    "sc = StandardScaler()\n",
    "X_train = sc.fit_transform(X_train)\n",
    "X_test = sc.transform(X_test)"
   ]
  },
  {
   "cell_type": "code",
   "execution_count": null,
   "id": "fc059071-4950-4174-a34b-d107f550a106",
   "metadata": {},
   "outputs": [],
   "source": [
    "print(X_train)"
   ]
  },
  {
   "cell_type": "code",
   "execution_count": null,
   "id": "561351d4-4a95-4239-aaf0-1b4263d5db64",
   "metadata": {},
   "outputs": [],
   "source": [
    "print(X_test)"
   ]
  },
  {
   "cell_type": "markdown",
   "id": "113d5d32-3446-437a-ad51-0b6531d63d38",
   "metadata": {},
   "source": [
    "Training the Logistic Regression model on the Training set"
   ]
  },
  {
   "cell_type": "code",
   "execution_count": null,
   "id": "aceb09d8-c00f-4620-b804-8f0ecbbf8252",
   "metadata": {},
   "outputs": [],
   "source": [
    "from sklearn.linear_model import LogisticRegression\n",
    "classifier = LogisticRegression(random_state=0)\n",
    "classifier.fit(X_train,y_train)"
   ]
  },
  {
   "cell_type": "markdown",
   "id": "96ed1aea-331c-4600-8743-3d5da524c185",
   "metadata": {},
   "source": [
    "Predicting a new result"
   ]
  },
  {
   "cell_type": "code",
   "execution_count": null,
   "id": "e246c9b5-89d2-44f5-964f-093087c9931d",
   "metadata": {},
   "outputs": [],
   "source": [
    "print(classifier.predict(sc.transform([[30,87000]])))"
   ]
  },
  {
   "cell_type": "code",
   "execution_count": null,
   "id": "ff77c0a0-ba20-48ee-80a7-68a63817d185",
   "metadata": {},
   "outputs": [],
   "source": [
    "print(classifier.predict(sc.transform([[22,97000]])))"
   ]
  },
  {
   "cell_type": "code",
   "execution_count": null,
   "id": "8604dc2d-bb7d-4500-8111-13a3717c7ace",
   "metadata": {},
   "outputs": [],
   "source": [
    "print(classifier.predict(sc.transform([[22,23544]])))"
   ]
  },
  {
   "cell_type": "code",
   "execution_count": null,
   "id": "5b02b424-699d-4c45-b427-775ebad43c42",
   "metadata": {},
   "outputs": [],
   "source": [
    "print(classifier.predict(sc.transform([[59,0]])))"
   ]
  },
  {
   "cell_type": "code",
   "execution_count": null,
   "id": "97f62b00-fb5d-4477-945f-4ffb026657d1",
   "metadata": {},
   "outputs": [],
   "source": [
    "print(classifier.predict(sc.transform([[22,000]])))"
   ]
  },
  {
   "cell_type": "markdown",
   "id": "425e2881-5f79-4f05-9e9d-c9deaedb51ef",
   "metadata": {},
   "source": [
    "Predicting the Test set results"
   ]
  },
  {
   "cell_type": "code",
   "execution_count": null,
   "id": "fcbf029c-7fb5-417f-8107-0f0bb8407c62",
   "metadata": {},
   "outputs": [],
   "source": [
    "y_pred = classifier.predict(X_test)\n",
    "print(np.concatenate((y_pred.reshape(len(y_pred),1),y_test.reshape(len(y_test),1)),1))"
   ]
  },
  {
   "cell_type": "markdown",
   "id": "a3fd9bed-a8fb-4042-b215-c6844bfd3dbf",
   "metadata": {},
   "source": [
    "Making the Confusion Matrix"
   ]
  },
  {
   "cell_type": "code",
   "execution_count": null,
   "id": "f5ab2611-a8e7-4eb7-abc9-39815ec0b0d6",
   "metadata": {},
   "outputs": [],
   "source": [
    "from sklearn.metrics import confusion_matrix, accuracy_score, classification_report\n",
    "\n",
    "cm = confusion_matrix(y_test, y_pred)\n",
    "\n",
    "print(\"Confusion Matrix:\\n\", cm)\n",
    "\n",
    "acc = accuracy_score(y_test, y_pred)\n",
    "\n",
    "print(\"Accuracy:\", acc)\n",
    "\n",
    "print(classification_report(y_test, y_pred))"
   ]
  },
  {
   "cell_type": "code",
   "execution_count": null,
   "id": "3d2c93e0-c59a-44ba-a6ec-9a3cc1789c8f",
   "metadata": {},
   "outputs": [],
   "source": [
    "print(classifier.predict(sc.transform([[30,87000]]))) \n",
    "\n",
    "print(classifier.predict(sc.transform([[40, 0]]))) \n",
    "\n",
    "print(classifier.predict(sc.transform([[40, 100000]])))\n",
    "\n",
    "print(classifier.predict(sc.transform([[50, 0]])))\n",
    "\n",
    "print(classifier.predict(sc.transform([[18,0]])))\n",
    "\n",
    "print(classifier.predict(sc.transform([[22,6000000]])))\n",
    "\n",
    "print(classifier.predict(sc.transform([[35,2500000]])))\n",
    "\n",
    "print(classifier.predict(sc.transform([[60,100000000]])))"
   ]
  },
  {
   "cell_type": "markdown",
   "id": "9df23971-9135-4aab-801e-2c924c3c7f26",
   "metadata": {},
   "source": [
    "Visualising the Training set results"
   ]
  },
  {
   "cell_type": "code",
   "execution_count": null,
   "id": "5cfc7a96-9612-4b81-b007-75daa6d918c3",
   "metadata": {},
   "outputs": [],
   "source": [
    "from matplotlib.colors import ListedColormap\n",
    "X_set,y_set = sc.inverse_transform(X_train),y_train\n",
    "X1, X2 = np.meshgrid(np.arange(start = X_set[:,0].min() - 10, stop = X_set[:,0].max() + 10, step = 0.25),\n",
    "                     np.arange(start = X_set[:,1].min() - 1000, stop = X_set[:,1].max() + 1000, step = 0.25))\n",
    "plt.contourf(X1,X2, classifier.predict(sc.transform(np.array([X1.ravel(), X2.ravel()]).T)).reshape(X1.shape),\n",
    "             alpha = 0.75, cmap = ListedColormap(('red', 'green')))\n",
    "plt.xlim(X1.min(),X1.max())\n",
    "plt.ylim(X2.min(),X2.max())\n",
    "for i, j in enumerate(np.unique(y_set)):\n",
    "    plt.scatter(X_set[y_set == j,0], X_set[y_set ==j,1], c= ListedColormap(('red','green'))(i), label = j)\n",
    "plt.title('Logistic Regression (Training set)')\n",
    "plt.xlabel('Age')\n",
    "plt.ylabel('Estimated Salary')\n",
    "plt.legend()\n",
    "plt.show()"
   ]
  },
  {
   "cell_type": "markdown",
   "id": "7dd80031-d500-441a-8bcc-e5f8f4a4259b",
   "metadata": {},
   "source": [
    "Visualising the Test set results"
   ]
  },
  {
   "cell_type": "code",
   "execution_count": null,
   "id": "a0c8af7f-08f2-4d93-9a1b-5ec63a010574",
   "metadata": {},
   "outputs": [],
   "source": [
    "from matplotlib.colors import ListedColormap\n",
    "X_set,y_set = sc.inverse_transform(X_test),y_test\n",
    "X1, X2 = np.meshgrid(np.arange(start = X_set[:,0].min() - 10, stop = X_set[:,0].max() + 10, step = 0.25),\n",
    "                     np.arange(start = X_set[:,1].min() - 1000, stop = X_set[:,1].max() + 1000, step = 0.25))\n",
    "plt.contourf(X1,X2, classifier.predict(sc.transform(np.array([X1.ravel(), X2.ravel()]).T)).reshape(X1.shape),\n",
    "             alpha = 0.75, cmap = ListedColormap(('red', 'green')))\n",
    "plt.xlim(X1.min(),X1.max())\n",
    "plt.ylim(X2.min(),X2.max())\n",
    "for i, j in enumerate(np.unique(y_set)):\n",
    "    plt.scatter(X_set[y_set == j,0], X_set[y_set ==j,1], c= ListedColormap(('red','green'))(i), label = j)\n",
    "plt.title('Logistic Regression (Training set)')\n",
    "plt.xlabel('Age')\n",
    "plt.ylabel('Estimated Salary')\n",
    "plt.legend()\n",
    "plt.show()"
   ]
  },
  {
   "cell_type": "code",
   "execution_count": null,
   "id": "ffa5f682-55e7-472d-ae5c-196b0a817239",
   "metadata": {},
   "outputs": [],
   "source": []
  }
 ],
 "metadata": {
  "kernelspec": {
   "display_name": "Python 3 (ipykernel)",
   "language": "python",
   "name": "python3"
  },
  "language_info": {
   "codemirror_mode": {
    "name": "ipython",
    "version": 3
   },
   "file_extension": ".py",
   "mimetype": "text/x-python",
   "name": "python",
   "nbconvert_exporter": "python",
   "pygments_lexer": "ipython3",
   "version": "3.12.3"
  }
 },
 "nbformat": 4,
 "nbformat_minor": 5
}
