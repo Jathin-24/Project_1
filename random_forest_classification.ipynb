{
 "cells": [
  {
   "cell_type": "markdown",
   "id": "26be4fd9-7ba9-4091-b9bb-e4a178248611",
   "metadata": {},
   "source": [
    "# Random Forest Classification"
   ]
  },
  {
   "cell_type": "markdown",
   "id": "d8a75f7e-4931-4ea0-afbc-cad34a0dc8b9",
   "metadata": {},
   "source": [
    "# Importing the libraries"
   ]
  },
  {
   "cell_type": "code",
   "execution_count": null,
   "id": "c12bd081-1de7-4bac-b405-8feccf1e5bc9",
   "metadata": {},
   "outputs": [],
   "source": [
    "import numpy as np\n",
    "import matplotlib.pyplot as plt\n",
    "import pandas as pd"
   ]
  },
  {
   "cell_type": "markdown",
   "id": "3843132c-a724-43ba-9e08-7b8af112b3bf",
   "metadata": {},
   "source": [
    "# Importing the dataset"
   ]
  },
  {
   "cell_type": "code",
   "execution_count": null,
   "id": "a48a9dc9-27d6-4942-907d-06ba6d0db656",
   "metadata": {},
   "outputs": [],
   "source": [
    "# dataset = pd.read_csv('insurance_survey_data.csv')\n",
    "dataset = pd.read_csv('Social_Network_Ads.csv')\n",
    "X = dataset.iloc[:,:-1].values\n",
    "y = dataset.iloc[:,-1].values"
   ]
  },
  {
   "cell_type": "code",
   "execution_count": null,
   "id": "a45ce44b-a715-4e30-8bc0-15b411d61650",
   "metadata": {},
   "outputs": [],
   "source": [
    "dataset.isnull().sum()"
   ]
  },
  {
   "cell_type": "markdown",
   "id": "3a82bce6-ac6f-4aec-b0a3-a381fd485692",
   "metadata": {},
   "source": [
    "# Splitting the dataset into the Training set and Test set"
   ]
  },
  {
   "cell_type": "code",
   "execution_count": null,
   "id": "5b169fc3-0c4c-42ef-b0ad-5e851935bb7c",
   "metadata": {},
   "outputs": [],
   "source": [
    "from sklearn.model_selection import train_test_split\n",
    "X_train,X_test, y_train, y_test = train_test_split(X, y, test_size = 0.25, random_state = 0) "
   ]
  },
  {
   "cell_type": "code",
   "execution_count": null,
   "id": "d7db17ef-d6a0-4893-8c3a-da9ff9eb0fb7",
   "metadata": {},
   "outputs": [],
   "source": [
    "print(X_train)"
   ]
  },
  {
   "cell_type": "code",
   "execution_count": null,
   "id": "516935a9-02b5-4bed-b6c4-1162139e76af",
   "metadata": {},
   "outputs": [],
   "source": [
    "print(y_train)"
   ]
  },
  {
   "cell_type": "code",
   "execution_count": null,
   "id": "3640b538-19bd-4670-b0ce-31f2d652e10f",
   "metadata": {},
   "outputs": [],
   "source": [
    "print(X_test)"
   ]
  },
  {
   "cell_type": "code",
   "execution_count": null,
   "id": "6bde425c-ac0b-4ccb-934c-53cc3642299d",
   "metadata": {},
   "outputs": [],
   "source": [
    "print(y_test)"
   ]
  },
  {
   "cell_type": "markdown",
   "id": "cb5e78cc-6ed1-4b76-8519-c7a42f3931c5",
   "metadata": {},
   "source": [
    "# Feature Scaling"
   ]
  },
  {
   "cell_type": "code",
   "execution_count": null,
   "id": "bcce5deb-66ad-46c0-acb4-09ea91708a20",
   "metadata": {},
   "outputs": [],
   "source": [
    "from sklearn.preprocessing import StandardScaler\n",
    "sc = StandardScaler()\n",
    "X_train = sc.fit_transform(X_train)\n",
    "X_test = sc.transform(X_test)"
   ]
  },
  {
   "cell_type": "code",
   "execution_count": null,
   "id": "994dc999-ae9c-4f0f-bb25-d4b240993b68",
   "metadata": {},
   "outputs": [],
   "source": [
    "print(X_train)"
   ]
  },
  {
   "cell_type": "code",
   "execution_count": null,
   "id": "f75ff8f8-e26b-4860-8e6b-1a2007b2052c",
   "metadata": {},
   "outputs": [],
   "source": [
    "print(X_test)"
   ]
  },
  {
   "cell_type": "markdown",
   "id": "56ce1c28-0bcc-447e-ae41-383f50ae6850",
   "metadata": {},
   "source": [
    "# Training the Random Forest Classification model on the Training set"
   ]
  },
  {
   "cell_type": "code",
   "execution_count": null,
   "id": "4aade3e3-8340-4bf9-b691-bd49ee41d0ca",
   "metadata": {},
   "outputs": [],
   "source": [
    "from sklearn.ensemble import RandomForestClassifier\n",
    "classifier = RandomForestClassifier(n_estimators = 10, criterion='entropy', random_state=0)\n",
    "classifier.fit(X_train, y_train)"
   ]
  },
  {
   "cell_type": "markdown",
   "id": "a16ce08d-b4e9-4cb1-b578-c96004e37bf8",
   "metadata": {},
   "source": [
    "# Predicting the new result"
   ]
  },
  {
   "cell_type": "code",
   "execution_count": null,
   "id": "335f878c-f7f9-420a-910d-aefe0ff1b730",
   "metadata": {},
   "outputs": [],
   "source": [
    "print(classifier.predict(sc.transform([[30,87000]])))"
   ]
  },
  {
   "cell_type": "code",
   "execution_count": null,
   "id": "4d064434-ae0c-43f6-b579-d3792848e096",
   "metadata": {},
   "outputs": [],
   "source": [
    "print(classifier.predict(sc.transform([[40,0]])))"
   ]
  },
  {
   "cell_type": "code",
   "execution_count": null,
   "id": "b25d5811-0a70-4c99-a997-a221f81cc047",
   "metadata": {},
   "outputs": [],
   "source": [
    "print(classifier.predict(sc.transform([[40,100000]])))"
   ]
  },
  {
   "cell_type": "code",
   "execution_count": null,
   "id": "9f0940db-2578-4052-b741-359a649ecd80",
   "metadata": {},
   "outputs": [],
   "source": [
    "print(classifier.predict(sc.transform([[50,0]])))"
   ]
  },
  {
   "cell_type": "markdown",
   "id": "5c31ee68-2181-43b1-9730-c6407d59d7f8",
   "metadata": {},
   "source": [
    "# Predicting the Test set results"
   ]
  },
  {
   "cell_type": "code",
   "execution_count": null,
   "id": "2af5efbf-dec0-47b9-82a2-c9919de304db",
   "metadata": {},
   "outputs": [],
   "source": [
    "y_pred = classifier.predict(X_test)\n",
    "print(np.concatenate((y_pred.reshape(len(y_pred),1), y_test.reshape(len(y_pred),1)),1))"
   ]
  },
  {
   "cell_type": "markdown",
   "id": "9f9d707a-dd2c-42ab-a93e-fc25866477cd",
   "metadata": {},
   "source": [
    "# Making the Confusion Matrix"
   ]
  },
  {
   "cell_type": "code",
   "execution_count": null,
   "id": "f00a8dd9-067b-4d1d-aa8f-7af325c0d754",
   "metadata": {},
   "outputs": [],
   "source": [
    "from sklearn.metrics import confusion_matrix, accuracy_score, classification_report\n",
    "\n",
    "cm = confusion_matrix(y_test, y_pred)\n",
    "\n",
    "print(\"Confusion Matrix:\\n\", cm)\n",
    "\n",
    "acc = accuracy_score(y_test, y_pred)\n",
    "\n",
    "print(\"Accuracy:\", acc)\n",
    "\n",
    "print(classification_report(y_test, y_pred))"
   ]
  },
  {
   "cell_type": "code",
   "execution_count": null,
   "id": "5185507e-a368-42ec-a5a0-c76febf5e3ca",
   "metadata": {},
   "outputs": [],
   "source": [
    "print(classifier.predict(sc.transform([[30,87000]]))) \n",
    "\n",
    "print(classifier.predict(sc.transform([[40, 0]]))) \n",
    "\n",
    "print(classifier.predict(sc.transform([[40, 100000]])))\n",
    "\n",
    "print(classifier.predict(sc.transform([[50, 0]])))\n",
    "\n",
    "print(classifier.predict(sc.transform([[18,0]])))\n",
    "\n",
    "print(classifier.predict(sc.transform([[22,6000000]])))\n",
    "\n",
    "print(classifier.predict(sc.transform([[35,2500000]])))\n",
    "\n",
    "print(classifier.predict(sc.transform([[60,100000000]])))"
   ]
  },
  {
   "cell_type": "markdown",
   "id": "b50f1a45-6318-4029-85ae-1ae638729c75",
   "metadata": {},
   "source": [
    "# Visualising the Training set results"
   ]
  },
  {
   "cell_type": "code",
   "execution_count": null,
   "id": "cab04007-5c24-4f2f-b2a3-e1ce4f4ef98d",
   "metadata": {},
   "outputs": [],
   "source": [
    "from matplotlib.colors import ListedColormap\n",
    "X_set, y_set = sc.inverse_transform(X_train), y_train\n",
    "X1, X2 = np. meshgrid(np.arange(start = X_set[:,0].min() - 10, stop = X_set[:, 0].max() +10 ,step = 1),\n",
    "                      np.arange(start = X_set[:, 1].min() - 1000, stop = X_set[:, 1].max() + 1000, step = 1000))\n",
    "plt.contourf(X1, X2, classifier.predict(sc.transform(np.array([X1.ravel(), X2.ravel()]).T)).reshape(X1.shape),\n",
    "             alpha = 0.75, cmap = ListedColormap(('red', 'green')))\n",
    "plt.xlim(X1.min(), X1.max())\n",
    "plt.ylim(X2.min(), X2.max())\n",
    "for i, j in enumerate(np.unique(y_set)):\n",
    "    plt.scatter(X_set[y_set == j, 0], X_set[y_set == j, 1], c = ListedColormap(('red', 'green'))(i), label = j)\n",
    "plt.title('Random Forest Classification (Training set)')\n",
    "plt.xlabel('Age')\n",
    "plt.ylabel('Estimated Salary')\n",
    "plt.legend()\n",
    "plt.show()"
   ]
  },
  {
   "cell_type": "markdown",
   "id": "292bd2ff-5763-445f-9096-79001aea2885",
   "metadata": {},
   "source": [
    "# Visualising the Test set results"
   ]
  },
  {
   "cell_type": "code",
   "execution_count": null,
   "id": "96e1572f-ce25-4d08-9690-848e7e9bf057",
   "metadata": {},
   "outputs": [],
   "source": [
    "from matplotlib.colors import ListedColormap\n",
    "X_set, y_set = sc.inverse_transform(X_test), y_test\n",
    "X1, X2 = np. meshgrid(np.arange(start = X_set[:,0].min() - 10, stop = X_set[:, 0].max() +10 ,step = 1),\n",
    "                      np.arange(start = X_set[:, 1].min() - 1000, stop = X_set[:, 1].max() + 1000, step = 1000))\n",
    "plt.contourf(X1, X2, classifier.predict(sc.transform(np.array([X1.ravel(), X2.ravel()]).T)).reshape(X1.shape),\n",
    "             alpha = 0.75, cmap = ListedColormap(('red', 'green')))\n",
    "plt.xlim(X1.min(), X1.max())\n",
    "plt.ylim(X2.min(), X2.max())\n",
    "for i, j in enumerate(np.unique(y_set)):\n",
    "    plt.scatter(X_set[y_set == j, 0], X_set[y_set == j, 1], c = ListedColormap(('red', 'green'))(i), label = j)\n",
    "plt.title('Random Forest Classification (Test set)')\n",
    "plt.xlabel('Age')\n",
    "plt.ylabel('Estimated Salary')\n",
    "plt.legend()\n",
    "plt.show()"
   ]
  },
  {
   "cell_type": "code",
   "execution_count": null,
   "id": "9d9d0bd4-1298-465d-9b82-6fec2952394e",
   "metadata": {},
   "outputs": [],
   "source": []
  }
 ],
 "metadata": {
  "kernelspec": {
   "display_name": "Python 3 (ipykernel)",
   "language": "python",
   "name": "python3"
  },
  "language_info": {
   "codemirror_mode": {
    "name": "ipython",
    "version": 3
   },
   "file_extension": ".py",
   "mimetype": "text/x-python",
   "name": "python",
   "nbconvert_exporter": "python",
   "pygments_lexer": "ipython3",
   "version": "3.12.3"
  }
 },
 "nbformat": 4,
 "nbformat_minor": 5
}
